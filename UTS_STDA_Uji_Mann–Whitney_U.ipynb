{
  "nbformat": 4,
  "nbformat_minor": 0,
  "metadata": {
    "colab": {
      "provenance": [],
      "authorship_tag": "ABX9TyOgYuozb1RDtlehimSs8bnt",
      "include_colab_link": true
    },
    "kernelspec": {
      "name": "python3",
      "display_name": "Python 3"
    },
    "language_info": {
      "name": "python"
    }
  },
  "cells": [
    {
      "cell_type": "markdown",
      "metadata": {
        "id": "view-in-github",
        "colab_type": "text"
      },
      "source": [
        "<a href=\"https://colab.research.google.com/github/gikirima/STDA-UTS/blob/main/UTS_STDA_Uji_Mann%E2%80%93Whitney_U.ipynb\" target=\"_parent\"><img src=\"https://colab.research.google.com/assets/colab-badge.svg\" alt=\"Open In Colab\"/></a>"
      ]
    },
    {
      "cell_type": "code",
      "execution_count": null,
      "metadata": {
        "colab": {
          "base_uri": "https://localhost:8080/"
        },
        "id": "iGHp28jax-wV",
        "outputId": "dde2f166-f33c-411c-8b1a-0ca5f2cfec99"
      },
      "outputs": [
        {
          "output_type": "stream",
          "name": "stdout",
          "text": [
            "Statistik U: 3233492.00\n",
            "P-value: 0.0000000001352\n",
            "✅ Hasil signifikan: hotspot secara statistik lebih dekat ke jalan dibanding titik acak.\n"
          ]
        }
      ],
      "source": [
        "import geopandas as gpd\n",
        "from scipy.stats import mannwhitneyu\n",
        "\n",
        "# Baca shapefile\n",
        "hotspot = gpd.read_file(\"Jarak_Hotspot_ke_Jalan.shp\")\n",
        "acak = gpd.read_file(\"Jarak_Acak_ke_Jalan.shp\")\n",
        "\n",
        "# Ambil kolom jarak (pastikan nama kolom benar)\n",
        "hotspot_dist = hotspot[\"HubDist\"].dropna()\n",
        "acak_dist = acak[\"HubDist\"].dropna()\n",
        "\n",
        "# Uji Mann–Whitney U (one-sided: hotspot lebih dekat dari random)\n",
        "stat, p_value = mannwhitneyu(hotspot_dist, acak_dist, alternative='less')\n",
        "\n",
        "print(f\"Statistik U: {stat:.2f}\")\n",
        "print(f\"P-value: {p_value:.13f}\")\n",
        "\n",
        "if p_value < 0.05:\n",
        "    print(\"✅ Hasil signifikan: hotspot secara statistik lebih dekat ke jalan dibanding titik acak.\")\n",
        "else:\n",
        "    print(\"❌ Tidak signifikan: jarak hotspot ke jalan tidak berbeda bermakna dari titik acak.\")"
      ]
    },
    {
      "cell_type": "code",
      "source": [],
      "metadata": {
        "id": "wND7ASYvyNHB"
      },
      "execution_count": null,
      "outputs": []
    }
  ]
}